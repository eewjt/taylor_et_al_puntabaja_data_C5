{
 "cells": [
  {
   "cell_type": "markdown",
   "metadata": {},
   "source": [
    "## Code used for Taylor et al. (2024)\n",
    "### 'Punta Baja canyon-confined overbanks'\n",
    "\n",
    "Bed proportion data stripped from logs using 'striplog', where resolution and outcrop quality allowed the differentiation of bed types \n",
    " \n"
   ]
  },
  {
   "cell_type": "code",
   "execution_count": 1,
   "metadata": {},
   "outputs": [],
   "source": [
    "import striplog\n",
    "import os \n",
    "from striplog import Striplog\n",
    "import numpy as np\n",
    "import IPython \n",
    "from IPython.display import Image\n",
    "from striplog import Legend\n",
    "import matplotlib.pyplot as plt\n",
    "import pandas as pd\n",
    "import plotly.express as px\n",
    "import plotly.graph_objects as go\n",
    "import numpy as np\n",
    "import matplotlib.patches as mpatches\n",
    "import seaborn as sns\n"
   ]
  },
  {
   "cell_type": "markdown",
   "metadata": {},
   "source": [
    "Import images of bed types assigned to logs"
   ]
  },
  {
   "cell_type": "code",
   "execution_count": 2,
   "metadata": {},
   "outputs": [],
   "source": [
    "img1 = Image(\"data\\pbbl1_0_75.png\", width= 20)\n",
    "img2 = Image(\"data\\pbbl2_0_235.png\", width= 20)\n",
    "img3 = Image(\"data\\pbms1_0_480.png\", width= 20)\n",
    "img4 = Image(\"data\\pbms2_0_670.png\", width= 20)\n",
    "img5 = Image(\"data\\pbms3_0_720.png\", width= 20)\n",
    "img6 = Image(\"data\\pbo2a_0_480.png\", width= 20)\n",
    "img7 = Image(\"data\\pbo2b_0_193.png\", width= 20)\n",
    "img8 = Image(\"data\\pbo2c_0_240.png\", width= 20)\n",
    "img9 = Image(\"data\\pbo2d_0_240.png\", width= 20)\n",
    "img10 = Image(\"data\\pbon1_0_287.png\", width= 20)\n",
    "img11 = Image(\"data\\pbon2_0_164.png\", width= 20)\n",
    "img12 = Image(\"data\\pbon3_0_239.png\", width= 20)\n",
    "img13 = Image(\"data\\pbon4_0_570.png\", width= 20)\n",
    "img14 = Image(\"data\\pb2a_0_165.png\", width= 20)\n",
    "img15 = Image(\"data\\pb2b_0_158.png\", width= 20)\n",
    "img16 = Image(\"data\\pb2c_0_115.png\", width= 20)\n",
    "img17 = Image(\"data\\pb2d_0_132.png\", width= 20)\n",
    "img18 = Image(\"data\\pb4a_0_106.png\", width= 20)\n",
    "img19 = Image(\"data\\pb4b_0_54.png\", width= 20)\n",
    "img20 = Image(\"data\\pbs1_0_14.png\", width= 20)\n",
    "img21 = Image(\"data\\pbs2_0_14.png\", width= 20)\n"
   ]
  },
  {
   "cell_type": "markdown",
   "metadata": {},
   "source": [
    "Create \"Legend\" of bed types"
   ]
  },
  {
   "cell_type": "code",
   "execution_count": 3,
   "metadata": {},
   "outputs": [],
   "source": [
    "legend_csv = \"\"\"colour, width, component lithology\n",
    "#2C5F2D, 2, HDT1\n",
    "#97BC62, 2, HDT2\n",
    "#00AEFF, 2, LDT1\n",
    "#B3F2FC, 2, LDT2\n",
    "#F0E1B9, 2, TFD1\n",
    "#F89C32, 2, TFD2\n",
    "#E95C20, 2, TFD3\n",
    "#FFA77F, 2, ITD\n",
    "#CCCCCC, 1, MTD\n",
    "#343434, 1, Mudstone\n",
    "\n",
    "\"\"\""
   ]
  },
  {
   "cell_type": "code",
   "execution_count": 4,
   "metadata": {},
   "outputs": [],
   "source": [
    "legend = Legend.from_csv(text=legend_csv)"
   ]
  },
  {
   "cell_type": "code",
   "execution_count": 5,
   "metadata": {},
   "outputs": [
    {
     "data": {
      "text/html": [
       "<table><tr><th>component</th><th>hatch</th><th>colour</th><th>width</th></tr><tr><td style=\"color:black; background-color:white\"><table><tr><td><strong>lithology</strong></td><td>hdt1</td></tr></table></td><td style=\"color:black; background-color:white\">None</td><td style=\"color:#ffffff; background-color:#2c5f2d\">#2c5f2d</td><td style=\"color:black; background-color:white\">2.0</td></tr><tr><td style=\"color:black; background-color:white\"><table><tr><td><strong>lithology</strong></td><td>hdt2</td></tr></table></td><td style=\"color:black; background-color:white\">None</td><td style=\"color:#000000; background-color:#97bc62\">#97bc62</td><td style=\"color:black; background-color:white\">2.0</td></tr><tr><td style=\"color:black; background-color:white\"><table><tr><td><strong>lithology</strong></td><td>ldt1</td></tr></table></td><td style=\"color:black; background-color:white\">None</td><td style=\"color:#000000; background-color:#00aeff\">#00aeff</td><td style=\"color:black; background-color:white\">2.0</td></tr><tr><td style=\"color:black; background-color:white\"><table><tr><td><strong>lithology</strong></td><td>ldt2</td></tr></table></td><td style=\"color:black; background-color:white\">None</td><td style=\"color:#000000; background-color:#b3f2fc\">#b3f2fc</td><td style=\"color:black; background-color:white\">2.0</td></tr><tr><td style=\"color:black; background-color:white\"><table><tr><td><strong>lithology</strong></td><td>tfd1</td></tr></table></td><td style=\"color:black; background-color:white\">None</td><td style=\"color:#000000; background-color:#f0e1b9\">#f0e1b9</td><td style=\"color:black; background-color:white\">2.0</td></tr><tr><td style=\"color:black; background-color:white\"><table><tr><td><strong>lithology</strong></td><td>tfd2</td></tr></table></td><td style=\"color:black; background-color:white\">None</td><td style=\"color:#000000; background-color:#f89c32\">#f89c32</td><td style=\"color:black; background-color:white\">2.0</td></tr><tr><td style=\"color:black; background-color:white\"><table><tr><td><strong>lithology</strong></td><td>tfd3</td></tr></table></td><td style=\"color:black; background-color:white\">None</td><td style=\"color:#ffffff; background-color:#e95c20\">#e95c20</td><td style=\"color:black; background-color:white\">2.0</td></tr><tr><td style=\"color:black; background-color:white\"><table><tr><td><strong>lithology</strong></td><td>itd</td></tr></table></td><td style=\"color:black; background-color:white\">None</td><td style=\"color:#000000; background-color:#ffa77f\">#ffa77f</td><td style=\"color:black; background-color:white\">2.0</td></tr><tr><td style=\"color:black; background-color:white\"><table><tr><td><strong>lithology</strong></td><td>mtd</td></tr></table></td><td style=\"color:black; background-color:white\">None</td><td style=\"color:#000000; background-color:#cccccc\">#cccccc</td><td style=\"color:black; background-color:white\">1.0</td></tr><tr><td style=\"color:black; background-color:white\"><table><tr><td><strong>lithology</strong></td><td>mudstone</td></tr></table></td><td style=\"color:black; background-color:white\">None</td><td style=\"color:#ffffff; background-color:#343434\">#343434</td><td style=\"color:black; background-color:white\">1.0</td></tr></table>"
      ],
      "text/plain": [
       "Legend(Decor({'_colour': '#2c5f2d', 'width': 2.0, 'component': Component({'lithology': 'hdt1'}), 'hatch': None})\n",
       "Decor({'_colour': '#97bc62', 'width': 2.0, 'component': Component({'lithology': 'hdt2'}), 'hatch': None})\n",
       "Decor({'_colour': '#00aeff', 'width': 2.0, 'component': Component({'lithology': 'ldt1'}), 'hatch': None})\n",
       "Decor({'_colour': '#b3f2fc', 'width': 2.0, 'component': Component({'lithology': 'ldt2'}), 'hatch': None})\n",
       "Decor({'_colour': '#f0e1b9', 'width': 2.0, 'component': Component({'lithology': 'tfd1'}), 'hatch': None})\n",
       "Decor({'_colour': '#f89c32', 'width': 2.0, 'component': Component({'lithology': 'tfd2'}), 'hatch': None})\n",
       "Decor({'_colour': '#e95c20', 'width': 2.0, 'component': Component({'lithology': 'tfd3'}), 'hatch': None})\n",
       "Decor({'_colour': '#ffa77f', 'width': 2.0, 'component': Component({'lithology': 'itd'}), 'hatch': None})\n",
       "Decor({'_colour': '#cccccc', 'width': 1.0, 'component': Component({'lithology': 'mtd'}), 'hatch': None})\n",
       "Decor({'_colour': '#343434', 'width': 1.0, 'component': Component({'lithology': 'mudstone'}), 'hatch': None}))"
      ]
     },
     "execution_count": 5,
     "metadata": {},
     "output_type": "execute_result"
    }
   ],
   "source": [
    "legend[:11]"
   ]
  },
  {
   "cell_type": "markdown",
   "metadata": {},
   "source": [
    "'strip' data from log images "
   ]
  },
  {
   "cell_type": "code",
   "execution_count": 6,
   "metadata": {},
   "outputs": [],
   "source": [
    "\n",
    "pbbl1 = Striplog.from_image(\"data\\pbbl1_0_75.png\", start=0, stop=75, col_offset=0.2, legend=legend, tolerance=85, background='fffff')\n",
    "pbbl2 = Striplog.from_image(\"data\\pbbl2_0_235.png\", start=0, stop=235, col_offset=0.2, legend=legend, tolerance=85, background='fffff')\n",
    "pbms1 = Striplog.from_image(\"data\\pbms1_0_480.png\", start=0, stop=480, col_offset=0.2, legend=legend, tolerance=85, background='fffff')\n",
    "pbms2l = Striplog.from_image(\"data\\pbms2l_0_444.png\", start=0, stop=444, col_offset=0.2, legend=legend, tolerance=85, background='fffff')\n",
    "pbms2u = Striplog.from_image(\"data\\pbms2u_444_670.png\", start=444, stop=670, col_offset=0.2, legend=legend, tolerance=85, background='fffff')\n",
    "pbms3 = Striplog.from_image(\"data\\pbms3_0_720.png\", start=0, stop=720, col_offset=0.2, legend=legend, tolerance=85, background='fffff')\n",
    "pbo2a = Striplog.from_image(\"data\\pbo2a_0_480.png\", start=0, stop=480, col_offset=0.2, legend=legend, tolerance=85, background='fffff')\n",
    "pbo2b = Striplog.from_image(\"data\\pbo2b_0_193.png\", start=0, stop=193, col_offset=0.2, legend=legend, tolerance=85, background='fffff')\n",
    "pbo2c = Striplog.from_image(\"data\\pbo2c_0_240.png\", start=0, stop=240, col_offset=0.2, legend=legend, tolerance=85, background='fffff')\n",
    "pbo2d = Striplog.from_image(\"data\\pbo2d_0_240.png\", start=0, stop=240, col_offset=0.2, legend=legend, tolerance=85, background='fffff')\n",
    "pbon1 = Striplog.from_image(\"data\\pbon1_0_287.png\", start=0, stop=287, col_offset=0.2, legend=legend, tolerance=85, background='fffff')\n",
    "pbon2 = Striplog.from_image(\"data\\pbon2_0_164.png\", start=0, stop=164, col_offset=0.2, legend=legend, tolerance=85, background='fffff')\n",
    "pbon3 = Striplog.from_image(\"data\\pbon3_0_239.png\", start=0, stop=239, col_offset=0.2, legend=legend, tolerance=85, background='fffff')\n",
    "pbon4 = Striplog.from_image(\"data\\pbon4_0_570.png\", start=0, stop=570, col_offset=0.2, legend=legend, tolerance=85, background='fffff')\n",
    "pb2a = Striplog.from_image(\"data\\pb2a_0_165.png\", start=0, stop=165, col_offset=0.2, legend=legend, tolerance=85, background='fffff')\n",
    "pb2b = Striplog.from_image(\"data\\pb2b_0_158.png\", start=0, stop=158, col_offset=0.2, legend=legend, tolerance=85, background='fffff')\n",
    "pb2c = Striplog.from_image(\"data\\pb2c_0_115.png\", start=0, stop=115, col_offset=0.2, legend=legend, tolerance=85, background='fffff')\n",
    "pb2d = Striplog.from_image(\"data\\pb2d_0_132.png\", start=0, stop=132, col_offset=0.2, legend=legend, tolerance=85, background='fffff')\n",
    "pb4a = Striplog.from_image(\"data\\pb4a_0_106.png\", start=0, stop=106, col_offset=0.2, legend=legend, tolerance=85, background='fffff')\n",
    "pb4b = Striplog.from_image(\"data\\pb4b_0_54.png\", start=0, stop=54, col_offset=0.2, legend=legend, tolerance=85, background='fffff')\n",
    "pbs1 = Striplog.from_image(\"data\\pbs1_0_14.png\", start=0, stop=14, col_offset=0.2, legend=legend, tolerance=85, background='fffff')\n",
    "pbs2 = Striplog.from_image(\"data\\pbs2_0_14.png\", start=0, stop=14, col_offset=0.2, legend=legend, tolerance=85, background='fffff')\n"
   ]
  },
  {
   "cell_type": "markdown",
   "metadata": {},
   "source": [
    "Plot strip logs and total thickness of each bed type"
   ]
  },
  {
   "cell_type": "code",
   "execution_count": 8,
   "metadata": {},
   "outputs": [
    {
     "data": {
      "text/plain": [
       "([5.105047915522188,\n",
       "  2.1987425990355853,\n",
       "  1.5296343770982097,\n",
       "  1.4065799914545567,\n",
       "  1.3681254959409186,\n",
       "  0.8451443569553825,\n",
       "  0.5110175181590685,\n",
       "  0.4994811695049712,\n",
       "  0.39907220899712903,\n",
       "  0.13715436733199082],\n",
       " (Component({'lithology': 'mudstone'}),\n",
       "  Component({'lithology': 'hdt2'}),\n",
       "  Component({'lithology': 'ldt2'}),\n",
       "  Component({'lithology': 'mtd'}),\n",
       "  Component({'lithology': 'ldt1'}),\n",
       "  Component({'lithology': 'hdt1'}),\n",
       "  Component({'lithology': 'tfd3'}),\n",
       "  Component({'lithology': 'tfd2'}),\n",
       "  Component({'lithology': 'tfd1'}),\n",
       "  Component({'lithology': 'itd'})),\n",
       " <BarContainer object of 10 artists>)"
      ]
     },
     "execution_count": 8,
     "metadata": {},
     "output_type": "execute_result"
    },
    {
     "data": {
      "image/png": "[encoded data removed]",
      "text/plain": [
       "<Figure size 150x750 with 1 Axes>"
      ]
     },
     "metadata": {},
     "output_type": "display_data"
    },
    {
     "data": {
      "image/png": "[encoded data removed]",
      "text/plain": [
       "<Figure size 640x480 with 1 Axes>"
      ]
     },
     "metadata": {},
     "output_type": "display_data"
    }
   ],
   "source": [
    "pbs1.plot(lw=0, ladder=True, label='hello', legend=legend, aspect=5, ticks=1)\n",
    "pbs1.histogram(legend=legend, rotation=45, ha='right')\n"
   ]
  }
 ],
 "metadata": {
  "kernelspec": {
   "display_name": "Python 3.10.4 ('data')",
   "language": "python",
   "name": "python3"
  },
  "language_info": {
   "codemirror_mode": {
    "name": "ipython",
    "version": 3
   },
   "file_extension": ".py",
   "mimetype": "text/x-python",
   "name": "python",
   "nbconvert_exporter": "python",
   "pygments_lexer": "ipython3",
   "version": "3.10.13"
  },
  "orig_nbformat": 4,
  "vscode": {
   "interpreter": {
    "hash": "22efde06381399a9716e2896318ed6fde8212bdeb574f5ce030b0ae84d8dbd07"
   }
  }
 },
 "nbformat": 4,
 "nbformat_minor": 2
}
